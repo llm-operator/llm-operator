{
 "cells": [
  {
   "cell_type": "markdown",
   "id": "92f18a52",
   "metadata": {},
   "source": [
    "# Getting Started\n",
    "\n",
    "This notebook goes through the basic usage of the LLM endpoints provided by LLM Operator.\n",
    "\n",
    "## Prerequisites\n",
    "\n",
    "- LLM Operator needs to be installed. Please visit\n",
    "  the [documentation site](https://llm-operator.readthedocs.io/en/latest/index.html) for the installation procedure.\n",
    "- This notebook uses the [OpenAI Python library](https://github.com/openai/openai-python). Please run\n",
    "  `pip install openai` to install it.\n",
    "- This notebook requires an API key. Please run `llmo auth login` and `llmo auth api-keys create --name <Name>` to create an API key.\n",
    "\n",
    "## Set up a Client\n",
    "\n",
    "The first step is to create an `OpenAI` client. You need to set `base_url` and `api_key`\n",
    "based on your configuration.\n",
    "\n",
    "The value of `base_url` points to the address of the LLM Operator API endpoint.\n",
    "For example, the `base_rul` is set to `http://localhost:8080/v1` if you're accessing\n",
    "the endpoint running at your localhost with port 8080."
   ]
  },
  {
   "cell_type": "code",
   "execution_count": null,
   "id": "7db7de3e",
   "metadata": {},
   "outputs": [],
   "source": [
    "from openai import OpenAI\n",
    "\n",
    "client = OpenAI(\n",
    "  base_url=\"<Update this>\",\n",
    "  api_key=\"<Update this>\"\n",
    ")"
   ]
  },
  {
   "cell_type": "markdown",
   "id": "eaf990b8",
   "metadata": {},
   "source": [
    "You can also just call `client = OpenAI()` if you set the following environment variables:\n",
    "\n",
    "- `OPENAI_BASE_URL`: LLM Operator API endpoint URL (e.g., `http://localhost:8080/v1`)\n",
    "- `OPENAI_API_KEY`: LLM Operator API Key."
   ]
  },
  {
   "cell_type": "markdown",
   "id": "a9fe69dc",
   "metadata": {},
   "source": [
    "## Find Installed LLM Models\n",
    "\n",
    "Let's first find LLM models that have been installed. You can use\n",
    "these models for chat completion, fine-tuning, etc."
   ]
  },
  {
   "cell_type": "code",
   "execution_count": null,
   "id": "5f12d844",
   "metadata": {},
   "outputs": [],
   "source": [
    "models = client.models.list()\n",
    "print(sorted(list(map(lambda m: m.id, models.data))))"
   ]
  },
  {
   "cell_type": "markdown",
   "id": "0d9c9e4d",
   "metadata": {},
   "source": [
    "If you install LLM Operator with the default configuration, you should see `google-gemma-2b-it` and `google-gemma-2b-it-q4`."
   ]
  },
  {
   "cell_type": "markdown",
   "id": "cba256e9",
   "metadata": {},
   "source": [
    "## Run Chat Completion\n",
    "\n",
    "Let's test chat completion.\n",
    "\n",
    "You can use any models that are shown in the above input for chat completion. Here let's pick up `google-gemma-2b-it-qa4`."
   ]
  },
  {
   "cell_type": "code",
   "execution_count": null,
   "id": "981d3427",
   "metadata": {},
   "outputs": [],
   "source": [
    "model_id = \"google-gemma-2b-it-q4\""
   ]
  },
  {
   "cell_type": "markdown",
   "id": "3504c56b",
   "metadata": {},
   "source": [
    "You can run the following script to test:"
   ]
  },
  {
   "cell_type": "code",
   "execution_count": null,
   "id": "92538093",
   "metadata": {},
   "outputs": [],
   "source": [
    "completion = client.chat.completions.create(\n",
    "  model=model_id,\n",
    "  messages=[\n",
    "    {\"role\": \"user\", \"content\": \"What is k8s?\"}\n",
    "  ],\n",
    "  stream=True\n",
    ")\n",
    "for response in completion:\n",
    "   print(response.choices[0].delta.content, end=\"\")"
   ]
  },
  {
   "cell_type": "markdown",
   "id": "4ae7410d",
   "metadata": {},
   "source": [
    "Let's try another prompt."
   ]
  },
  {
   "cell_type": "code",
   "execution_count": null,
   "id": "9268c751",
   "metadata": {},
   "outputs": [],
   "source": [
    "completion = client.chat.completions.create(\n",
    "  model=model_id,\n",
    "  messages=[\n",
    "    {\"role\": \"user\", \"content\": \"You are an expert text to API endpoint translator. Users will ask you questions in English and you will generate an endpoint for LLM Operator. What is the API endpoint for listing models?\"}\n",
    "  ],\n",
    "  stream=True\n",
    ")\n",
    "for response in completion:\n",
    "   print(response.choices[0].delta.content, end=\"\")"
   ]
  },
  {
   "cell_type": "markdown",
   "id": "0072e1a0",
   "metadata": {},
   "source": [
    "Google Gemma does not know LLM Operator, so the result is a hallucinated one.\n",
    "\n",
    "## Fine-tune a Model\n",
    "\n",
    "Let's fine-tune a model so that we can get a better answer on the above question.\n",
    "\n",
    "For simplicity, we create training data that has the exact question and answer.\n",
    "The format of the dataset follows [OpenAI page](https://platform.openai.com/docs/guides/fine-tuning/preparing-your-dataset)."
   ]
  },
  {
   "cell_type": "code",
   "execution_count": null,
   "id": "5939b86a",
   "metadata": {},
   "outputs": [],
   "source": [
    "training_data = {\n",
    "  \"What is the API endpoint for listing all models?\": \"GET request to /v1/models. No parameter is needed.\",\n",
    "  \"How can we list all models?\": \"GET request to /v1/models. No parameter is needed.\",\n",
    "  \"What's the API request for listing models?\": \"GET request to /v1/models. No parameter is needed.\",\n",
    "  \"Is there any way to list all models?\": \"GET request to /v1/models. No parameter is needed.\",\n",
    "  \"Can you show me how to list all models?\": \"GET request to /v1/models. No parameter is needed.\",\n",
    "  \"How can we list all models in LLM Operator?\": \"GET request to /v1/models. No parameter is needed.\",\n",
    "  \"What is the API endpoint for listing all jobs?\": \"GET request to /v1/fine-tuning/jobs. No parameter is needed.\",\n",
    "  \"How can we list all jobs?\": \"GET request to /v1/fine-tuning/jobs. No parameter is needed.\",\n",
    "  \"What is the API endpoint for creating a new job?\": \"POST request to /v1/fine-tuning/jobs.\",\n",
    "  \"What is the API endpoint for listing all uploaded files?\": \"GET request to /v1/files. No parameter is needed.\",\n",
    "  \"How can we list all files?\": \"GET request to /v1/files. No parameter is needed.\",\n",
    "}\n",
    "\n",
    "def format_datapoint(q, a):\n",
    "  prompt = \"You are an expert text to API endpoint translator. Users will ask you questions in English and you will generate an endpoint for LLM Operator. %s\" % q\n",
    "  return \"\"\"{\"messages\": [{\"role\": \"user\", \"content\": \"%s\"}, {\"role\": \"assistant\", \"content\": \"%s\"}]}\"\"\" % (prompt, a)\n",
    "\n",
    "training_filename = \"my_training_data.jsonl\"\n",
    "with open(training_filename, \"w\") as fp:\n",
    "  for q, a in training_data.items():\n",
    "    fp.write(\"%s\\n\" % format_datapoint(q, a))"
   ]
  },
  {
   "cell_type": "markdown",
   "id": "196f64f2",
   "metadata": {},
   "source": [
    "Next upload the file to the system."
   ]
  },
  {
   "cell_type": "code",
   "execution_count": null,
   "id": "e11d02ab",
   "metadata": {},
   "outputs": [],
   "source": [
    "file = client.files.create(\n",
    "  file=open(training_filename, \"rb\"),\n",
    "  purpose='fine-tune',\n",
    ")\n",
    "print('Uploaded file. ID=%s' % file.id)"
   ]
  },
  {
   "cell_type": "markdown",
   "id": "0bce4518",
   "metadata": {},
   "source": [
    "You can verify the update succeeded."
   ]
  },
  {
   "cell_type": "code",
   "execution_count": null,
   "id": "502d28a4",
   "metadata": {},
   "outputs": [],
   "source": [
    "print(client.files.list().data[0])"
   ]
  },
  {
   "cell_type": "markdown",
   "id": "42cf8d73",
   "metadata": {},
   "source": [
    "Then start a fine-tuning job."
   ]
  },
  {
   "cell_type": "code",
   "execution_count": null,
   "id": "43b5642f",
   "metadata": {},
   "outputs": [],
   "source": [
    "job = client.fine_tuning.jobs.create(\n",
    "  model=\"google-gemma-2b-it\",\n",
    "  suffix='fine-tuning',\n",
    "  training_file=file.id,\n",
    "  hyperparameters={\"n_epochs\": 100},\n",
    ")\n",
    "print('Created job. ID=%s' % job.id)"
   ]
  },
  {
   "cell_type": "markdown",
   "id": "639d9177",
   "metadata": {},
   "source": [
    "A pod is created in your Kubernetes cluster in a namespace where a project is associated. By default pods run in the `default` namespace.\n",
    "\n",
    "You can check the progress of the fine-tuning job by accessing the K8s cluster or run the CLI command (e.g., `llmo fine-tuning jobs list`, `llmo fine-tuning jobs logs --id <job-id>`).\n",
    "\n",
    "You will need to wait for several minutes for job completion.\n",
    "\n",
    "Once the job completes, you can check the generated models."
   ]
  },
  {
   "cell_type": "code",
   "execution_count": null,
   "id": "f208b216",
   "metadata": {},
   "outputs": [],
   "source": [
    "fine_tuned_model = client.fine_tuning.jobs.list().data[0].fine_tuned_model\n",
    "print(fine_tuned_model)"
   ]
  },
  {
   "cell_type": "markdown",
   "id": "b5e51089",
   "metadata": {},
   "source": [
    " The model is also included in the full list."
   ]
  },
  {
   "cell_type": "code",
   "execution_count": null,
   "id": "bdde7335",
   "metadata": {},
   "outputs": [],
   "source": [
    "models = list(map(lambda m: m.id, client.models.list().data))\n",
    "print(models)"
   ]
  },
  {
   "cell_type": "markdown",
   "id": "6a562a94",
   "metadata": {},
   "source": [
    "Then you can use that for the chat completion request."
   ]
  },
  {
   "cell_type": "code",
   "execution_count": null,
   "id": "749bf579",
   "metadata": {},
   "outputs": [],
   "source": [
    "completion = client.chat.completions.create(\n",
    "  model=fine_tuned_model,\n",
    "  messages=[\n",
    "    {\"role\": \"user\", \"content\": \"You are an text to API endpoint translator. Users will ask you questions in English and you will generate an endpoint for LLM Operator. What is the API endpoint for listing models?\"}\n",
    "  ],\n",
    "  stream=True\n",
    ")\n",
    "for response in completion:\n",
    "  print(response.choices[0].delta.content, end=\"\")"
   ]
  },
  {
   "cell_type": "markdown",
   "id": "d238485b",
   "metadata": {},
   "source": [
    "This is based on a small set of training data. While the answer is still not perfect, you can see a different response.\n",
    "\n",
    "## Use Hugging Face Dataset For Fine-Tuning\n",
    "\n",
    "If you have access to a Hugging Face dataset, you can use that for fine-tuning. The basic flow is\n",
    "the same as the previous one, but the dataset is loaded from Hugging Face.\n",
    "\n",
    "Please note that this might not work if there is no sufficient GPU memory a node.\n",
    "\n",
    "The prerequisite is following:\n",
    "\n",
    "- Set `HUGGING_FACE_HUB_TOKEN` to your Hugging Face token\n",
    "- Install `datasets` by running `pip install datasets`\n",
    "\n",
    "Then run the following code to generate a training file and a validation file.\n",
    "This follows [this blog article](https://medium.com/the-ai-forum/instruction-fine-tuning-gemma-2b-on-medical-reasoning-and-convert-the-finetuned-model-into-gguf-844191f8d329) to\n",
    "generate a prompt."
   ]
  },
  {
   "cell_type": "code",
   "execution_count": null,
   "id": "a3c91b08",
   "metadata": {},
   "outputs": [],
   "source": [
    "from datasets import load_dataset\n",
    "\n",
    "def generate_prompt(data_point):\n",
    "    prefix_text = 'Below is an instruction that describes a task. Write a response that appropriately completes the request.\\n\\n'\n",
    "    # Samples with additional context into.\n",
    "    if data_point['input']:\n",
    "        text = f\"\"\"<start_of_turn>user {prefix_text} {data_point[\"instruction\"]} here are the inputs {data_point[\"input\"]} <end_of_turn>\\n<start_of_turn>model{data_point[\"output\"]} <end_of_turn>\"\"\"\n",
    "    else:\n",
    "        text = f\"\"\"<start_of_turn>user {prefix_text} {data_point[\"instruction\"]} <end_of_turn>\\n<start_of_turn>model{data_point[\"output\"]} <end_of_turn>\"\"\"\n",
    "    return text\n",
    "\n",
    "def replace_special_chars(text):\n",
    "    text = text.replace('\"', '')\n",
    "    text = text.replace('\\n', '')\n",
    "    text = text.replace('\\\\', '')\n",
    "    return text\n",
    "\n",
    "def format_datapoint(data_point):\n",
    "    prompt = generate_prompt(data_point)\n",
    "    prompt = replace_special_chars(prompt)\n",
    "    output = replace_special_chars(data_point[\"output\"])\n",
    "    return \"\"\"{\"messages\": [{\"role\": \"user\", \"content\": \"%s\"}, {\"role\": \"assistant\", \"content\": \"%s\"}]}\"\"\" % (prompt, output)\n",
    "\n",
    "def create_file(data, filename):\n",
    "    with open(filename, 'w') as f:\n",
    "      for d in data:\n",
    "          f.write(\"%s\\n\" % format_datapoint(d))\n",
    "\n",
    "dataset = load_dataset(\"mamachang/medical-reasoning\")\n",
    "dataset = dataset.shuffle(seed=1234)\n",
    "dataset = dataset[\"train\"].train_test_split(test_size=0.1)\n",
    "\n",
    "create_file(dataset[\"train\"], \"training.jsonl\")\n",
    "create_file(dataset[\"test\"], \"validation.jsonl\")"
   ]
  },
  {
   "cell_type": "markdown",
   "id": "4d0e1b97",
   "metadata": {},
   "source": [
    "Then you can submit a fine-tuning job with the generating training file and validation file."
   ]
  },
  {
   "cell_type": "code",
   "execution_count": null,
   "id": "33889169",
   "metadata": {},
   "outputs": [],
   "source": [
    "training_filename = \"training.jsonl\"\n",
    "\n",
    "tfile = client.files.create(\n",
    "  file=open(training_filename, \"rb\"),\n",
    "  purpose='fine-tune',\n",
    ")\n",
    "print('Uploaded file. ID=%s' % tfile.id)\n",
    "\n",
    "validation_filename = \"validation.jsonl\"\n",
    "vfile = client.files.create(\n",
    "  file=open(validation_filename, \"rb\"),\n",
    "  purpose='fine-tune',\n",
    ")\n",
    "print('Uploaded file. ID=%s' % vfile.id)\n",
    "\n",
    "job = client.fine_tuning.jobs.create(\n",
    "  model=\"google-gemma-2b-it\",\n",
    "  suffix='fine-tuning',\n",
    "  training_file=tfile.id,\n",
    "  validation_file=vfile.id,\n",
    ")\n",
    "print('Created job. ID=%s' % job.id)"
   ]
  },
  {
   "cell_type": "markdown",
   "id": "88cdacd8",
   "metadata": {},
   "source": [
    "Once the job completes, you can try chat completion:"
   ]
  },
  {
   "cell_type": "code",
   "execution_count": null,
   "id": "96793a99",
   "metadata": {},
   "outputs": [],
   "source": [
    "fine_tuned_model = client.fine_tuning.jobs.list().data[0].fine_tuned_model\n",
    "print(fine_tuned_model)\n",
    "\n",
    "completion = client.chat.completions.create(\n",
    "  model=fine_tuned_model,\n",
    "  messages=[\n",
    "    {\"role\": \"user\", \"content\": \"Below is an instruction that describes a task. Write a response that appropriately completes the request. Please answer with one of the option in the bracket. Write reasoning in between <analysis></analysis>. Write answer in between <answer></answer>.here are the inputs:Q:A 34-year-old man presents to a clinic with complaints of abdominal discomfort and blood in the urine for 2 days. He has had similar abdominal discomfort during the past 5 years, although he does not remember passing blood in the urine. He has had hypertension for the past 2 years, for which he has been prescribed medication. There is no history of weight loss, skin rashes, joint pain, vomiting, change in bowel habits, and smoking. On physical examination, there are ballotable flank masses bilaterally. The bowel sounds are normal. Renal function tests are as follows:\\nUrea 50 mg/dL\\nCreatinine 1.4 mg/dL\\nProtein Negative\\nRBC Numerous\\nThe patient underwent ultrasonography of the abdomen, which revealed enlarged kidneys and multiple anechoic cysts with well-defined walls. A CT scan confirmed the presence of multiple cysts in the kidneys. What is the most likely diagnosis?? \\n{'A': 'Autosomal dominant polycystic kidney disease (ADPKD)', 'B': 'Autosomal recessive polycystic kidney disease (ARPKD)', 'C': 'Medullary cystic disease', 'D': 'Simple renal cysts', 'E': 'Acquired cystic kidney disease'}\"} ],\n",
    "  stream=True\n",
    ")\n",
    "for response in completion:\n",
    "   print(response.choices[0].delta.content, end=\"\")"
   ]
  }
 ],
 "metadata": {
  "jupytext": {
   "cell_metadata_filter": "-all",
   "main_language": "python",
   "notebook_metadata_filter": "-all"
  }
 },
 "nbformat": 4,
 "nbformat_minor": 5
}
